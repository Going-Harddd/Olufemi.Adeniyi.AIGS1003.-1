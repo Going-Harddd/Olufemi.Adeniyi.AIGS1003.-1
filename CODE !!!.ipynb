{
 "cells": [
  {
   "cell_type": "markdown",
   "id": "608900d2",
   "metadata": {},
   "source": [
    "QUESTION 1:\n",
    "\n",
    "#A\n",
    "\n",
    "P(Sunny/a cone of ice cream)\n",
    "P(Rainy) = 2/4 = 1/2\n",
    "P(Sunny) = 2/4 = 1/2\n",
    "\n",
    "P(sunny/a cone of ice cream) = P(a/Sunny) * P(cone/Sunny) * P(of/Sunny) * P(ice/Sunny) * P(cream/Sunny)\n",
    "\n",
    "#B\n",
    "\n",
    "P(Rainy/a cup of hot coffee) = P(a/Rainy) * P(cup/Rainy) * P(of/Rainy) * P(hot/Rainy) * p(coffee/Rainy)\n",
    "\n"
   ]
  },
  {
   "cell_type": "code",
   "execution_count": 4,
   "id": "fe563dd8",
   "metadata": {},
   "outputs": [
    {
     "name": "stdout",
     "output_type": "stream",
     "text": [
      "Doing classification\n",
      "--------------------\n",
      "data:\t\tdigits\n",
      "classifier:\t\tmostFrequent\n",
      "training set size:\t500\n",
      "Extracting features...\n",
      "Training...\n",
      "Validating...\n",
      "67 correct out of 500 (13.4%).\n",
      "Testing...\n",
      "53 correct out of 500 (10.6%).\n",
      "===================================\n",
      "Mistake on example 0\n",
      "Predicted 1; truth is 9\n",
      "Image: \n",
      "                            \n",
      "                            \n",
      "                            \n",
      "                            \n",
      "                            \n",
      "                            \n",
      "                            \n",
      "             ++###+         \n",
      "             ######+        \n",
      "            +######+        \n",
      "            ##+++##+        \n",
      "           +#+  +##+        \n",
      "           +##++###+        \n",
      "           +#######+        \n",
      "           +#######+        \n",
      "            +##+###         \n",
      "              ++##+         \n",
      "              +##+          \n",
      "              ###+          \n",
      "            +###+           \n",
      "            +##+            \n",
      "           +##+             \n",
      "          +##+              \n",
      "         +##+               \n",
      "         ##+                \n",
      "        +#+                 \n",
      "        +#+                 \n",
      "                            \n"
     ]
    }
   ],
   "source": [
    "!python dataClassifier.py"
   ]
  },
  {
   "cell_type": "code",
   "execution_count": 5,
   "id": "6920693d",
   "metadata": {},
   "outputs": [
    {
     "name": "stdout",
     "output_type": "stream",
     "text": [
      "Usage: \n",
      "  USAGE:      python dataClassifier.py <options>\n",
      "  EXAMPLES:   (1) python dataClassifier.py\n",
      "                  - trains the default mostFrequent classifier on the digit dataset\n",
      "                  using the default 100 training examples and\n",
      "                  then test the classifier on test data\n",
      "                 \n",
      "\n",
      "Options:\n",
      "  -h, --help            show this help message and exit\n",
      "  -c CLASSIFIER, --classifier=CLASSIFIER\n",
      "                        The type of classifier [Default: mostFrequent]\n",
      "  -d DATA, --data=DATA  Dataset to use [Default: digits]\n",
      "  -t TRAINING, --training=TRAINING\n",
      "                        The size of the training set [Default: 500]\n",
      "  -a, --autotune        Whether to automatically tune hyperparameters\n",
      "                        [Default: False]\n",
      "  -i ITERATIONS, --iterations=ITERATIONS\n",
      "                        Maximum iterations to run training [Default: 3]\n"
     ]
    }
   ],
   "source": [
    "!python dataClassifier.py -h"
   ]
  },
  {
   "cell_type": "code",
   "execution_count": 18,
   "id": "6ccec2f3",
   "metadata": {},
   "outputs": [
    {
     "name": "stdout",
     "output_type": "stream",
     "text": [
      "Doing classification\n",
      "--------------------\n",
      "data:\t\tdigits\n",
      "classifier:\t\tnaiveBayes\n",
      "training set size:\t500\n",
      "using automatic tuning for naivebayes\n",
      "Extracting features...\n",
      "Training...\n",
      "Method not implemented: trainAndTune\n"
     ]
    }
   ],
   "source": [
    "!python dataClassifier.py -c naiveBayes --autotune"
   ]
  },
  {
   "cell_type": "code",
   "execution_count": 31,
   "id": "4246bb4a",
   "metadata": {},
   "outputs": [
    {
     "name": "stdout",
     "output_type": "stream",
     "text": [
      "Doing classification\n",
      "--------------------\n",
      "data:\t\tdigits\n",
      "classifier:\t\tnaiveBayes\n",
      "training set size:\t500\n",
      "using automatic tuning for naivebayes\n",
      "Extracting features...\n",
      "Training...\n",
      "Method not implemented: trainAndTune\n"
     ]
    }
   ],
   "source": [
    "!python dataClassifier.py -a -d digits -c naiveBayes"
   ]
  },
  {
   "cell_type": "code",
   "execution_count": 27,
   "id": "51a7209e",
   "metadata": {},
   "outputs": [
    {
     "name": "stdout",
     "output_type": "stream",
     "text": [
      "Doing classification\n",
      "--------------------\n",
      "data:\t\tdigits\n",
      "classifier:\t\tnaiveBayes\n",
      "training set size:\t1000\n",
      "Extracting features...\n",
      "Training...\n",
      "Method not implemented: trainAndTune\n"
     ]
    }
   ],
   "source": [
    "!python dataClassifier.py -d digits -c naiveBayes -t 1000"
   ]
  },
  {
   "cell_type": "code",
   "execution_count": null,
   "id": "69888267",
   "metadata": {},
   "outputs": [],
   "source": []
  }
 ],
 "metadata": {
  "kernelspec": {
   "display_name": "Python 3 (ipykernel)",
   "language": "python",
   "name": "python3"
  },
  "language_info": {
   "codemirror_mode": {
    "name": "ipython",
    "version": 3
   },
   "file_extension": ".py",
   "mimetype": "text/x-python",
   "name": "python",
   "nbconvert_exporter": "python",
   "pygments_lexer": "ipython3",
   "version": "3.11.4"
  }
 },
 "nbformat": 4,
 "nbformat_minor": 5
}
